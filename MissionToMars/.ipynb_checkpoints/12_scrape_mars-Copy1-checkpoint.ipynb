{
 "cells": [
  {
   "cell_type": "markdown",
   "metadata": {},
   "source": [
    ">>> # S T E P 2  \n",
    "Use MongoDB with Flask templating to create a new HTML page that displays all of the information that was scraped from the URLs above"
   ]
  },
  {
   "cell_type": "markdown",
   "metadata": {},
   "source": [
    "#### (1) Convert Jupyter notebook into Python script called scrape_mars.py with function scrape to curate all Mars data. \n",
    "#### (2) Create route /scrape that will import scrape_mars.py which calls scrape function. Store return value in Mongo as a Python dictionary. \n",
    "#### (3) Create a root / that will query Mongo db and pass the curated mars data into an HTML template to display data. \n",
    "#### (4) Create a template HTML file call index.html that will take the mars data dictionary and display all of the data in the appropriate HTML elements"
   ]
  },
  {
   "cell_type": "code",
   "execution_count": 1,
   "metadata": {
    "scrolled": true
   },
   "outputs": [],
   "source": [
    "from bs4 import BeautifulSoup\n",
    "import os\n",
    "import requests\n",
    "from splinter import Browser\n",
    "from selenium import webdriver\n",
    "import pandas as pd\n",
    "import time\n",
    "from flask import Flask\n",
    "#from flask_pymongo import PyMongo\n",
    "#import scrape_mars"
   ]
  },
  {
   "cell_type": "code",
   "execution_count": 2,
   "metadata": {},
   "outputs": [],
   "source": [
    "def init_browser():\n",
    "    executable_path = {'executable_path': 'chromedriver.exe'}\n",
    "    return Browser('chrome', **executable_path, headless=False)  "
   ]
  },
  {
   "cell_type": "code",
   "execution_count": 3,
   "metadata": {},
   "outputs": [],
   "source": [
    "#def scrape():\n",
    " #   browser = init_browser()\n",
    "  #  mars_collection = {}"
   ]
  },
  {
   "cell_type": "markdown",
   "metadata": {},
   "source": [
    "> S C R A P E"
   ]
  },
  {
   "cell_type": "code",
   "execution_count": 4,
   "metadata": {},
   "outputs": [],
   "source": [
    "def scrape_all():\n",
    "    browser = init_browser()\n",
    "    mars_collection = {}\n",
    "    news_title, news_para= scrape_news(browser)\n",
    "    results = {\n",
    "        \"title\": news_title,\n",
    "        \"paragraph\": news_para\n",
    "    }\n",
    "    browser.quit()\n",
    "    print(resuilts)\n",
    "    return results"
   ]
  },
  {
   "cell_type": "code",
   "execution_count": 5,
   "metadata": {},
   "outputs": [],
   "source": [
    "def scrape_news(browser):\n",
    "    url_news = \"https://mars.nasa.gov/news/\"\n",
    "    browser.visit(url_news)\n",
    "    html=browser.html\n",
    "    \n",
    "    response = requests.get(url_news)\n",
    "    soup_news = BeautifulSoup(response.text, 'html.parser')\n",
    "    \n",
    "    mars_collection[\"news_title\"] = soup_news.find('div', class_='content_title').text.strip()\n",
    "    mars_collection[\"news_para\"] = soup_news.find('div', class_='rollover_description_inner').text.strip()\n",
    "\n",
    "    news_title = soup_news.find('div', class_='content_title').text.strip()\n",
    "    print (news_title)\n",
    "    \n",
    "    news_para = soup_news.find('div', class_='rollover_description_inner').text.strip()\n",
    "    print (news_para)\n",
    "\n",
    "    return news_title, news_para"
   ]
  },
  {
   "cell_type": "code",
   "execution_count": 6,
   "metadata": {},
   "outputs": [],
   "source": [
    "# scrape_all()"
   ]
  },
  {
   "cell_type": "markdown",
   "metadata": {},
   "source": [
    "--------------------------------------------------------- SCRAPE ONCE --------------------------------------------------------"
   ]
  },
  {
   "cell_type": "code",
   "execution_count": 7,
   "metadata": {},
   "outputs": [],
   "source": [
    "def scrape():\n",
    "    browser = init_browser()\n",
    "    mars_collection = {}\n",
    "    # --------------------------------------------------------- MARS NEWS ---------------------------------------------------------\n",
    "    #url_news = \"https://mars.nasa.gov/news/?page=0&per_page=40&order=publish_date+desc%2Ccreated_at+desc&search=&category=19%2C165%2C184%2C204&blank_scope=Latest\"\n",
    "    url_news = \"https://mars.nasa.gov/news/\"\n",
    "    browser.visit(url_news)\n",
    "    html=browser.html\n",
    "    response = requests.get(url_news)\n",
    "    soup_news = BeautifulSoup(response.text, 'html.parser')\n",
    "    #news_title = soup_news.find('div', class_='content_title').text.strip()\n",
    "    #news_title    \n",
    "    \n",
    "    mars_collection[\"news_title\"] = soup_news.find('div', class_='content_title').text.strip()\n",
    "    mars_collection[\"news_para\"] = soup_news.find('div', class_='rollover_description_inner').text.strip()\n",
    "    \n",
    "    # --------------------------------------------------------- MARS IMAGES ---------------------------------------------------------\n",
    "    url_img = \"https://www.jpl.nasa.gov/spaceimages/?search=&category=Mars\"\n",
    "    browser.visit(url_img)\n",
    "    browser.click_link_by_id('full_image')\n",
    "    time.sleep(2)\n",
    "    html = browser.html\n",
    "    soup_img = BeautifulSoup(html, \"html.parser\")\n",
    "    image_url = soup_img.find('img', class_='fancybox-image')['src']\n",
    "    featured_image_url = \"https://www.jpl.nasa.gov\" + image_url\n",
    "    #featured_image_url\n",
    "\n",
    "    mars_collection[\"featured_img_url\"] = featured_image_url\n",
    "    \n",
    "    # --------------------------------------------------------- MARS WEATHER ---------------------------------------------------------\n",
    "    url_weather = 'https://twitter.com/marswxreport?lang=en'\n",
    "    response = requests.get(url_weather)\n",
    "    \n",
    "    soup_weather = BeautifulSoup(response.text, 'html.parser')\n",
    "    mars_weather = soup_weather.find('div', class_='js-tweet-text-container')\n",
    "    #mars_weather.text.strip()\n",
    "    \n",
    "    mars_collection[\"mars_weather\"] = mars_weather.text.strip()\n",
    "    \n",
    "    # --------------------------------------------------------- MARS FACTS ---------------------------------------------------------\n",
    "    url_facts = 'https://space-facts.com/mars/'\n",
    "    mars_tables = pd.read_html(url_facts)\n",
    "    \n",
    "    df = mars_tables[0]\n",
    "    df.columns = ['MARS PLANET PROFILE', 'FACTS']\n",
    "    \n",
    "    html_fact1 = df.to_html()\n",
    "    html_fact2 = html_fact1.replace('\\n', '')\n",
    "    \n",
    "    mars_collection[\"fact_table\"] = html_fact2\n",
    "    \n",
    "    # --------------------------------------------------------- MARS HEMISPHERES ----------------------------------------------------\n",
    "    url_hemi1 = 'https://astrogeology.usgs.gov/search/map/Mars/Viking/cerberus_enhanced'\n",
    "    response = requests.get(url_hemi1)  \n",
    "    soup_hemi1 = BeautifulSoup(response.text, 'html.parser')\n",
    "    img_hemi1 = soup_hemi1.find('img', class_='wide-image')['src']\n",
    "    hemi1_title = soup_hemi1.find('h2', class_='title')\n",
    "    \n",
    "    url_hemi2 = 'https://astrogeology.usgs.gov/search/map/Mars/Viking/schiaparelli_enhanced'\n",
    "    response = requests.get(url_hemi2)\n",
    "    soup_hemi2 = BeautifulSoup(response.text, 'html.parser')\n",
    "    img_hemi2 = soup_hemi2.find('img', class_='wide-image')['src']\n",
    "    hemi2_title = soup_hemi2.find('h2', class_='title')    \n",
    "    \n",
    "    url_hemi3 = 'https://astrogeology.usgs.gov/search/map/Mars/Viking/syrtis_major_enhanced'\n",
    "    response = requests.get(url_hemi3)\n",
    "    soup_hemi3 = BeautifulSoup(response.text, 'html.parser')\n",
    "    img_hemi3 = soup_hemi3.find('img', class_='wide-image')['src']\n",
    "    hemi3_title = soup_hemi3.find('h2', class_='title')\n",
    "    \n",
    "    url_hemi4 = 'https://astrogeology.usgs.gov/search/map/Mars/Viking/valles_marineris_enhanced'\n",
    "    response = requests.get(url_hemi4)\n",
    "    soup_hemi4 = BeautifulSoup(response.text, 'html.parser')\n",
    "    img_hemi4 = soup_hemi4.find('img', class_='wide-image')['src']\n",
    "    hemi4_title = soup_hemi4.find('h2', class_='title')\n",
    "    \n",
    "    \n",
    "    mars_collection[\"cereberus_img\"] = img_hemi1\n",
    "    mars_collection[\"cereberus_title\"] = hemi1_title.text.strip()\n",
    "    mars_collection[\"schiaparelli_img\"] = img_hemi2\n",
    "    mars_collection[\"schiaparelli_title\"] = hemi2_title.text.strip()\n",
    "    mars_collection[\"syrtis_major_img\"] = img_hemi3\n",
    "    mars_collection[\"syrtis_major_title\"] = hemi3_title.text.strip()\n",
    "    mars_collection[\"valles_marineris_img\"] = img_hemi4\n",
    "    mars_collection[\"valles_marineris_title\"] = hemi4_title.text.strip()   \n",
    "    \n",
    "    mars_collection\n",
    "    return mars_collection"
   ]
  },
  {
   "cell_type": "code",
   "execution_count": 8,
   "metadata": {},
   "outputs": [
    {
     "data": {
      "text/plain": [
       "{'news_title': 'NASA Invites Students to Name Mars 2020 Rover',\n",
       " 'news_para': \"Through Nov. 1, K-12 students in the U.S. are encouraged to enter an essay contest to name NASA's next Mars rover.\",\n",
       " 'featured_img_url': 'https://www.jpl.nasa.gov/spaceimages/images/mediumsize/PIA00063_ip.jpg',\n",
       " 'mars_weather': 'InSight sol 334 (2019-11-04) low -100.0ºC (-148.1ºF) high -23.8ºC (-10.8ºF)\\nwinds from the SSW at 5.1 m/s (11.4 mph) gusting to 19.9 m/s (44.4 mph)\\npressure at 7.00 hPapic.twitter.com/D4EX1MROay',\n",
       " 'fact_table': '<table border=\"1\" class=\"dataframe\">  <thead>    <tr style=\"text-align: right;\">      <th></th>      <th>MARS PLANET PROFILE</th>      <th>FACTS</th>    </tr>  </thead>  <tbody>    <tr>      <th>0</th>      <td>Equatorial Diameter:</td>      <td>6,792 km</td>    </tr>    <tr>      <th>1</th>      <td>Polar Diameter:</td>      <td>6,752 km</td>    </tr>    <tr>      <th>2</th>      <td>Mass:</td>      <td>6.39 × 10^23 kg (0.11 Earths)</td>    </tr>    <tr>      <th>3</th>      <td>Moons:</td>      <td>2 (Phobos &amp; Deimos)</td>    </tr>    <tr>      <th>4</th>      <td>Orbit Distance:</td>      <td>227,943,824 km (1.38 AU)</td>    </tr>    <tr>      <th>5</th>      <td>Orbit Period:</td>      <td>687 days (1.9 years)</td>    </tr>    <tr>      <th>6</th>      <td>Surface Temperature:</td>      <td>-87 to -5 °C</td>    </tr>    <tr>      <th>7</th>      <td>First Record:</td>      <td>2nd millennium BC</td>    </tr>    <tr>      <th>8</th>      <td>Recorded By:</td>      <td>Egyptian astronomers</td>    </tr>  </tbody></table>',\n",
       " 'cereberus_img': '/cache/images/cfa62af2557222a02478f1fcd781d445_cerberus_enhanced.tif_full.jpg',\n",
       " 'cereberus_title': 'Cerberus Hemisphere Enhanced',\n",
       " 'schiaparelli_img': '/cache/images/3cdd1cbf5e0813bba925c9030d13b62e_schiaparelli_enhanced.tif_full.jpg',\n",
       " 'schiaparelli_title': 'Schiaparelli Hemisphere Enhanced',\n",
       " 'syrtis_major_img': '/cache/images/ae209b4e408bb6c3e67b6af38168cf28_syrtis_major_enhanced.tif_full.jpg',\n",
       " 'syrtis_major_title': 'Syrtis Major Hemisphere Enhanced',\n",
       " 'valles_marineris_img': '/cache/images/7cf2da4bf549ed01c17f206327be4db7_valles_marineris_enhanced.tif_full.jpg',\n",
       " 'valles_marineris_title': 'Valles Marineris Hemisphere Enhanced'}"
      ]
     },
     "execution_count": 8,
     "metadata": {},
     "output_type": "execute_result"
    }
   ],
   "source": [
    "scrape()"
   ]
  },
  {
   "cell_type": "markdown",
   "metadata": {},
   "source": [
    ">> ## M O N G O  -- D B\n",
    "note: install the following - pip install Flask-PyMongo\n",
    "#### 1) Connect (2) Scrape (3) Insert into MongoDB (4) Pull to confirm (5) Pull each (a few) to confirm"
   ]
  },
  {
   "cell_type": "code",
   "execution_count": 9,
   "metadata": {},
   "outputs": [],
   "source": [
    "import pymongo"
   ]
  },
  {
   "cell_type": "code",
   "execution_count": 10,
   "metadata": {},
   "outputs": [],
   "source": [
    "conn = 'mongodb://localhost:27017'\n",
    "client = pymongo.MongoClient(conn)"
   ]
  },
  {
   "cell_type": "code",
   "execution_count": 11,
   "metadata": {},
   "outputs": [
    {
     "data": {
      "text/plain": [
       "Database(MongoClient(host=['localhost:27017'], document_class=dict, tz_aware=False, connect=True), 'mission_to_mars')"
      ]
     },
     "execution_count": 11,
     "metadata": {},
     "output_type": "execute_result"
    }
   ],
   "source": [
    "db = client.mission_to_mars\n",
    "collection = db.items\n",
    "mars_db = client[\"mission_to_mars\"]\n",
    "mars_db"
   ]
  },
  {
   "cell_type": "code",
   "execution_count": 12,
   "metadata": {},
   "outputs": [
    {
     "data": {
      "text/plain": [
       "Collection(Database(MongoClient(host=['localhost:27017'], document_class=dict, tz_aware=False, connect=True), 'mission_to_mars'), 'items')"
      ]
     },
     "execution_count": 12,
     "metadata": {},
     "output_type": "execute_result"
    }
   ],
   "source": [
    "mars_col = mars_db[\"items\"]\n",
    "mars_col"
   ]
  },
  {
   "cell_type": "markdown",
   "metadata": {},
   "source": [
    "### Scrape | Insert into MongoDB | Pull from DB and confirm"
   ]
  },
  {
   "cell_type": "code",
   "execution_count": 13,
   "metadata": {},
   "outputs": [
    {
     "name": "stdout",
     "output_type": "stream",
     "text": [
      "{'news_title': 'NASA Invites Students to Name Mars 2020 Rover', 'news_para': \"Through Nov. 1, K-12 students in the U.S. are encouraged to enter an essay contest to name NASA's next Mars rover.\", 'featured_img_url': 'https://www.jpl.nasa.gov/spaceimages/images/mediumsize/PIA00063_ip.jpg', 'mars_weather': 'InSight sol 334 (2019-11-04) low -100.0ºC (-148.1ºF) high -23.8ºC (-10.8ºF)\\nwinds from the SSW at 5.1 m/s (11.4 mph) gusting to 19.9 m/s (44.4 mph)\\npressure at 7.00 hPapic.twitter.com/D4EX1MROay', 'fact_table': '<table border=\"1\" class=\"dataframe\">  <thead>    <tr style=\"text-align: right;\">      <th></th>      <th>MARS PLANET PROFILE</th>      <th>FACTS</th>    </tr>  </thead>  <tbody>    <tr>      <th>0</th>      <td>Equatorial Diameter:</td>      <td>6,792 km</td>    </tr>    <tr>      <th>1</th>      <td>Polar Diameter:</td>      <td>6,752 km</td>    </tr>    <tr>      <th>2</th>      <td>Mass:</td>      <td>6.39 × 10^23 kg (0.11 Earths)</td>    </tr>    <tr>      <th>3</th>      <td>Moons:</td>      <td>2 (Phobos &amp; Deimos)</td>    </tr>    <tr>      <th>4</th>      <td>Orbit Distance:</td>      <td>227,943,824 km (1.38 AU)</td>    </tr>    <tr>      <th>5</th>      <td>Orbit Period:</td>      <td>687 days (1.9 years)</td>    </tr>    <tr>      <th>6</th>      <td>Surface Temperature:</td>      <td>-87 to -5 °C</td>    </tr>    <tr>      <th>7</th>      <td>First Record:</td>      <td>2nd millennium BC</td>    </tr>    <tr>      <th>8</th>      <td>Recorded By:</td>      <td>Egyptian astronomers</td>    </tr>  </tbody></table>', 'cereberus_img': '/cache/images/cfa62af2557222a02478f1fcd781d445_cerberus_enhanced.tif_full.jpg', 'cereberus_title': 'Cerberus Hemisphere Enhanced', 'schiaparelli_img': '/cache/images/3cdd1cbf5e0813bba925c9030d13b62e_schiaparelli_enhanced.tif_full.jpg', 'schiaparelli_title': 'Schiaparelli Hemisphere Enhanced', 'syrtis_major_img': '/cache/images/ae209b4e408bb6c3e67b6af38168cf28_syrtis_major_enhanced.tif_full.jpg', 'syrtis_major_title': 'Syrtis Major Hemisphere Enhanced', 'valles_marineris_img': '/cache/images/7cf2da4bf549ed01c17f206327be4db7_valles_marineris_enhanced.tif_full.jpg', 'valles_marineris_title': 'Valles Marineris Hemisphere Enhanced'}\n"
     ]
    }
   ],
   "source": [
    "mars_info = scrape()\n",
    "print(mars_info)"
   ]
  },
  {
   "cell_type": "code",
   "execution_count": 14,
   "metadata": {},
   "outputs": [
    {
     "data": {
      "text/plain": [
       "<pymongo.results.InsertOneResult at 0x24f161d8c88>"
      ]
     },
     "execution_count": 14,
     "metadata": {},
     "output_type": "execute_result"
    }
   ],
   "source": [
    "mars_col1 = mars_col.insert_one(mars_info)\n",
    "mars_col1"
   ]
  },
  {
   "cell_type": "code",
   "execution_count": 15,
   "metadata": {},
   "outputs": [
    {
     "data": {
      "text/plain": [
       "{'_id': ObjectId('5dc46944653720caeb21d2df'),\n",
       " 'news_title': 'NASA Invites Students to Name Mars 2020 Rover',\n",
       " 'news_para': \"Through Nov. 1, K-12 students in the U.S. are encouraged to enter an essay contest to name NASA's next Mars rover.\",\n",
       " 'featured_img_url': 'https://www.jpl.nasa.gov/spaceimages/images/mediumsize/PIA00063_ip.jpg',\n",
       " 'mars_weather': 'InSight sol 334 (2019-11-04) low -100.0ºC (-148.1ºF) high -23.8ºC (-10.8ºF)\\nwinds from the SSW at 5.1 m/s (11.4 mph) gusting to 19.9 m/s (44.4 mph)\\npressure at 7.00 hPapic.twitter.com/D4EX1MROay',\n",
       " 'fact_table': '<table border=\"1\" class=\"dataframe\">  <thead>    <tr style=\"text-align: right;\">      <th></th>      <th>MARS PLANET PROFILE</th>      <th>FACTS</th>    </tr>  </thead>  <tbody>    <tr>      <th>0</th>      <td>Equatorial Diameter:</td>      <td>6,792 km</td>    </tr>    <tr>      <th>1</th>      <td>Polar Diameter:</td>      <td>6,752 km</td>    </tr>    <tr>      <th>2</th>      <td>Mass:</td>      <td>6.39 × 10^23 kg (0.11 Earths)</td>    </tr>    <tr>      <th>3</th>      <td>Moons:</td>      <td>2 (Phobos &amp; Deimos)</td>    </tr>    <tr>      <th>4</th>      <td>Orbit Distance:</td>      <td>227,943,824 km (1.38 AU)</td>    </tr>    <tr>      <th>5</th>      <td>Orbit Period:</td>      <td>687 days (1.9 years)</td>    </tr>    <tr>      <th>6</th>      <td>Surface Temperature:</td>      <td>-87 to -5 °C</td>    </tr>    <tr>      <th>7</th>      <td>First Record:</td>      <td>2nd millennium BC</td>    </tr>    <tr>      <th>8</th>      <td>Recorded By:</td>      <td>Egyptian astronomers</td>    </tr>  </tbody></table>',\n",
       " 'cereberus_img': '/cache/images/cfa62af2557222a02478f1fcd781d445_cerberus_enhanced.tif_full.jpg',\n",
       " 'cereberus_title': 'Cerberus Hemisphere Enhanced',\n",
       " 'schiaparelli_img': '/cache/images/3cdd1cbf5e0813bba925c9030d13b62e_schiaparelli_enhanced.tif_full.jpg',\n",
       " 'schiaparelli_title': 'Schiaparelli Hemisphere Enhanced',\n",
       " 'syrtis_major_img': '/cache/images/ae209b4e408bb6c3e67b6af38168cf28_syrtis_major_enhanced.tif_full.jpg',\n",
       " 'syrtis_major_title': 'Syrtis Major Hemisphere Enhanced',\n",
       " 'valles_marineris_img': '/cache/images/7cf2da4bf549ed01c17f206327be4db7_valles_marineris_enhanced.tif_full.jpg',\n",
       " 'valles_marineris_title': 'Valles Marineris Hemisphere Enhanced'}"
      ]
     },
     "execution_count": 15,
     "metadata": {},
     "output_type": "execute_result"
    }
   ],
   "source": [
    "mars_col2 = mars_col.find_one()\n",
    "mars_col2"
   ]
  },
  {
   "cell_type": "code",
   "execution_count": 33,
   "metadata": {},
   "outputs": [
    {
     "data": {
      "text/plain": [
       "'NASA Invites Students to Name Mars 2020 Rover'"
      ]
     },
     "execution_count": 33,
     "metadata": {},
     "output_type": "execute_result"
    }
   ],
   "source": [
    "mars_col2[\"news_title\"]"
   ]
  },
  {
   "cell_type": "code",
   "execution_count": 34,
   "metadata": {},
   "outputs": [
    {
     "data": {
      "text/plain": [
       "\"Through Nov. 1, K-12 students in the U.S. are encouraged to enter an essay contest to name NASA's next Mars rover.\""
      ]
     },
     "execution_count": 34,
     "metadata": {},
     "output_type": "execute_result"
    }
   ],
   "source": [
    "mars_col2[\"news_para\"]"
   ]
  },
  {
   "cell_type": "code",
   "execution_count": 36,
   "metadata": {},
   "outputs": [
    {
     "data": {
      "text/plain": [
       "ObjectId('5dc46944653720caeb21d2df')"
      ]
     },
     "execution_count": 36,
     "metadata": {},
     "output_type": "execute_result"
    }
   ],
   "source": [
    "mars_col2[\"_id\"]"
   ]
  },
  {
   "cell_type": "markdown",
   "metadata": {},
   "source": [
    ">>>   E N D   ..."
   ]
  }
 ],
 "metadata": {
  "kernelspec": {
   "display_name": "Python 3",
   "language": "python",
   "name": "python3"
  },
  "language_info": {
   "codemirror_mode": {
    "name": "ipython",
    "version": 3
   },
   "file_extension": ".py",
   "mimetype": "text/x-python",
   "name": "python",
   "nbconvert_exporter": "python",
   "pygments_lexer": "ipython3",
   "version": "3.7.3"
  }
 },
 "nbformat": 4,
 "nbformat_minor": 2
}
